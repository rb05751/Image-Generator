{
  "nbformat": 4,
  "nbformat_minor": 0,
  "metadata": {
    "colab": {
      "name": "Reverse Image Classification.ipynb",
      "provenance": [],
      "collapsed_sections": [],
      "authorship_tag": "ABX9TyPvzeisKBM0wiZyColc2bkz",
      "include_colab_link": true
    },
    "kernelspec": {
      "name": "python3",
      "display_name": "Python 3"
    },
    "accelerator": "GPU"
  },
  "cells": [
    {
      "cell_type": "markdown",
      "metadata": {
        "id": "view-in-github",
        "colab_type": "text"
      },
      "source": [
        "<a href=\"https://colab.research.google.com/github/rb05751/Image-Generator/blob/master/Reverse_Image_Classification.ipynb\" target=\"_parent\"><img src=\"https://colab.research.google.com/assets/colab-badge.svg\" alt=\"Open In Colab\"/></a>"
      ]
    },
    {
      "cell_type": "code",
      "metadata": {
        "id": "uXgJv2-jqKJl",
        "colab_type": "code",
        "colab": {}
      },
      "source": [
        "import tensorflow as tf\n",
        "# To generate GIFs\n",
        "!pip install -q imageio\n",
        "import glob\n",
        "import imageio\n",
        "import matplotlib.pyplot as plt\n",
        "import numpy as np\n",
        "import os\n",
        "import PIL\n",
        "from tensorflow.keras import layers\n",
        "import time\n",
        "\n",
        "from IPython import display"
      ],
      "execution_count": 1,
      "outputs": []
    },
    {
      "cell_type": "code",
      "metadata": {
        "id": "rNKKvbGEqPh3",
        "colab_type": "code",
        "colab": {
          "base_uri": "https://localhost:8080/",
          "height": 51
        },
        "outputId": "17f060aa-59a3-479b-cefa-fdbcef3041e6"
      },
      "source": [
        "(training_images, training_labels), (testing_images, testing_labels) = tf.keras.datasets.mnist.load_data()\n",
        "\n",
        "# (training_images, training_labels), (testing_images, testing_labels) = tf.keras.datasets.fashion_mnist.load_data()\n",
        "\n",
        "# (training_images, training_labels), (testing_images, testing_labels) = tf.keras.datasets.cifar10.load_data()"
      ],
      "execution_count": 2,
      "outputs": [
        {
          "output_type": "stream",
          "text": [
            "Downloading data from https://storage.googleapis.com/tensorflow/tf-keras-datasets/mnist.npz\n",
            "11493376/11490434 [==============================] - 0s 0us/step\n"
          ],
          "name": "stdout"
        }
      ]
    },
    {
      "cell_type": "code",
      "metadata": {
        "id": "gkr1yXYEqTEr",
        "colab_type": "code",
        "colab": {
          "base_uri": "https://localhost:8080/",
          "height": 299
        },
        "outputId": "a5edfabd-8a7d-49f5-aed7-92da30742361"
      },
      "source": [
        "image = training_images[31, :]\n",
        "label = training_labels[31]\n",
        "# image = image.reshape(28,28,1)\n",
        "plt.imshow(image[:, :], cmap='gray')\n",
        "# plt.imshow(image)\n",
        "\n",
        "print(training_images.shape)\n",
        "print(label)"
      ],
      "execution_count": 4,
      "outputs": [
        {
          "output_type": "stream",
          "text": [
            "(60000, 28, 28)\n",
            "8\n"
          ],
          "name": "stdout"
        },
        {
          "output_type": "display_data",
          "data": {
            "image/png": "[encoded data removed]",
            "text/plain": [
              "<Figure size 432x288 with 1 Axes>"
            ]
          },
          "metadata": {
            "tags": [],
            "needs_background": "light"
          }
        }
      ]
    },
    {
      "cell_type": "code",
      "metadata": {
        "id": "keEG981WqUvt",
        "colab_type": "code",
        "colab": {
          "base_uri": "https://localhost:8080/",
          "height": 86
        },
        "outputId": "d4a35a5c-c9bc-4fb2-e54c-08f8fd59efe8"
      },
      "source": [
        "train_images = training_images / 255\n",
        "train_images = train_images[:,:,:]\n",
        "train_images = train_images.reshape(train_images.shape[0], 784)\n",
        "train_labels = training_labels\n",
        "validation_images = testing_images\n",
        "validation_images = validation_images[:,:,:]\n",
        "validation_images = validation_images.reshape(validation_images.shape[0], 784) / 255\n",
        "validation_labels = testing_labels\n",
        "\n",
        "print(train_images.shape)\n",
        "print(validation_images.shape)\n",
        "print(train_labels.shape)\n",
        "print(validation_labels.shape)"
      ],
      "execution_count": 6,
      "outputs": [
        {
          "output_type": "stream",
          "text": [
            "(60000, 784)\n",
            "(10000, 784)\n",
            "(60000,)\n",
            "(10000,)\n"
          ],
          "name": "stdout"
        }
      ]
    },
    {
      "cell_type": "code",
      "metadata": {
        "id": "24dcbLB2rQP_",
        "colab_type": "code",
        "colab": {
          "base_uri": "https://localhost:8080/",
          "height": 499
        },
        "outputId": "0a52d696-0c53-4508-81a4-ca2d04e5bf0a"
      },
      "source": [
        "\n",
        "\n",
        "model = tf.keras.Sequential([\n",
        "      #Upsampling portion of model\n",
        "      tf.keras.layers.Dense(2*2*256, activation = 'relu', input_shape = (1,)),\n",
        "      tf.keras.layers.BatchNormalization(),\n",
        "      tf.keras.layers.Dense(7*7*256, activation = 'relu', input_shape = (1,)),\n",
        "      tf.keras.layers.BatchNormalization(),\n",
        "      tf.keras.layers.Reshape((7, 7, 256)),\n",
        "      tf.keras.layers.Conv2DTranspose(256, (3, 3), strides=(2, 2), activation = 'relu', padding='same', use_bias=False),\n",
        "      tf.keras.layers.BatchNormalization(),\n",
        "      tf.keras.layers.Conv2DTranspose(1, (3, 3), strides=(2, 2), padding='same',  use_bias=False, activation = 'tanh'),\n",
        "      tf.keras.layers.Flatten(),\n",
        "      tf.keras.layers.Dense(784, activation = 'sigmoid')\n",
        "])\n",
        "\n",
        "model.summary()"
      ],
      "execution_count": 8,
      "outputs": [
        {
          "output_type": "stream",
          "text": [
            "Model: \"sequential_1\"\n",
            "_________________________________________________________________\n",
            "Layer (type)                 Output Shape              Param #   \n",
            "=================================================================\n",
            "dense_2 (Dense)              (None, 1024)              2048      \n",
            "_________________________________________________________________\n",
            "batch_normalization_2 (Batch (None, 1024)              4096      \n",
            "_________________________________________________________________\n",
            "dense_3 (Dense)              (None, 12544)             12857600  \n",
            "_________________________________________________________________\n",
            "batch_normalization_3 (Batch (None, 12544)             50176     \n",
            "_________________________________________________________________\n",
            "reshape_1 (Reshape)          (None, 7, 7, 256)         0         \n",
            "_________________________________________________________________\n",
            "conv2d_transpose_2 (Conv2DTr (None, 14, 14, 256)       589824    \n",
            "_________________________________________________________________\n",
            "batch_normalization_4 (Batch (None, 14, 14, 256)       1024      \n",
            "_________________________________________________________________\n",
            "conv2d_transpose_3 (Conv2DTr (None, 28, 28, 1)         2304      \n",
            "_________________________________________________________________\n",
            "flatten_1 (Flatten)          (None, 784)               0         \n",
            "_________________________________________________________________\n",
            "dense_4 (Dense)              (None, 784)               615440    \n",
            "=================================================================\n",
            "Total params: 14,122,512\n",
            "Trainable params: 14,094,864\n",
            "Non-trainable params: 27,648\n",
            "_________________________________________________________________\n"
          ],
          "name": "stdout"
        }
      ]
    },
    {
      "cell_type": "code",
      "metadata": {
        "id": "DQ641KCYrUZk",
        "colab_type": "code",
        "colab": {
          "base_uri": "https://localhost:8080/",
          "height": 433
        },
        "outputId": "664cc530-782e-43d1-bec7-1adc8b16e973"
      },
      "source": [
        "# Compile Model. \n",
        "model.compile(loss = 'categorical_crossentropy'\n",
        "    , optimizer='adam', metrics=['accuracy'])\n",
        "\n",
        "# Train the Model\n",
        "history = model.fit(x = train_labels, y = train_images, batch_size = 1000, epochs=10, validation_data = (validation_labels, validation_images), verbose = 1, validation_steps = 1)\n",
        "\n",
        "model.evaluate(validation_labels, validation_images)"
      ],
      "execution_count": 9,
      "outputs": [
        {
          "output_type": "stream",
          "text": [
            "Epoch 1/10\n",
            " 2/60 [>.............................] - ETA: 3s - loss: 687.4780 - accuracy: 0.0045WARNING:tensorflow:Callbacks method `on_train_batch_end` is slow compared to the batch time (batch time: 0.0085s vs `on_train_batch_end` time: 0.1096s). Check your callbacks.\n",
            "60/60 [==============================] - 7s 124ms/step - loss: 598.1104 - accuracy: 0.0043 - val_loss: 562.7945 - val_accuracy: 0.0080\n",
            "Epoch 2/10\n",
            "60/60 [==============================] - 7s 123ms/step - loss: 580.4356 - accuracy: 0.0041 - val_loss: 568.8880 - val_accuracy: 0.0020\n",
            "Epoch 3/10\n",
            "60/60 [==============================] - 7s 122ms/step - loss: 577.8918 - accuracy: 0.0049 - val_loss: 576.2350 - val_accuracy: 0.0020\n",
            "Epoch 4/10\n",
            "60/60 [==============================] - 7s 123ms/step - loss: 577.0852 - accuracy: 0.0047 - val_loss: 576.4035 - val_accuracy: 0.0130\n",
            "Epoch 5/10\n",
            "60/60 [==============================] - 7s 123ms/step - loss: 576.7742 - accuracy: 0.0035 - val_loss: 574.7922 - val_accuracy: 0.0110\n",
            "Epoch 6/10\n",
            "60/60 [==============================] - 7s 124ms/step - loss: 576.6307 - accuracy: 0.0037 - val_loss: 571.1460 - val_accuracy: 0.0090\n",
            "Epoch 7/10\n",
            "60/60 [==============================] - 8s 128ms/step - loss: 576.5576 - accuracy: 0.0053 - val_loss: 580.1588 - val_accuracy: 0.0050\n",
            "Epoch 8/10\n",
            "60/60 [==============================] - 8s 129ms/step - loss: 576.5203 - accuracy: 0.0073 - val_loss: 570.0744 - val_accuracy: 0.0040\n",
            "Epoch 9/10\n",
            "60/60 [==============================] - 8s 131ms/step - loss: 576.4740 - accuracy: 0.0078 - val_loss: 554.8842 - val_accuracy: 0.0060\n",
            "Epoch 10/10\n",
            "60/60 [==============================] - 8s 132ms/step - loss: 576.4390 - accuracy: 0.0078 - val_loss: 540.1215 - val_accuracy: 0.0050\n",
            "313/313 [==============================] - 1s 3ms/step - loss: 584.8749 - accuracy: 0.0030\n"
          ],
          "name": "stdout"
        },
        {
          "output_type": "execute_result",
          "data": {
            "text/plain": [
              "[584.8748779296875, 0.003000000026077032]"
            ]
          },
          "metadata": {
            "tags": []
          },
          "execution_count": 9
        }
      ]
    },
    {
      "cell_type": "code",
      "metadata": {
        "id": "RxoGtsADrZlI",
        "colab_type": "code",
        "colab": {
          "base_uri": "https://localhost:8080/",
          "height": 545
        },
        "outputId": "751c2dc2-6d12-4d40-8154-4f015dd9a4b3"
      },
      "source": [
        "import matplotlib.pyplot as plt\n",
        "acc = history.history['accuracy']\n",
        "val_acc = history.history['val_accuracy']\n",
        "loss = history.history['loss']\n",
        "val_loss = history.history['val_loss']\n",
        "\n",
        "epochs = range(len(acc))\n",
        "\n",
        "\n",
        "\n",
        "plt.plot(epochs, acc, 'r', label='Training accuracy')\n",
        "plt.plot(epochs, val_acc, 'b', label='Validation accuracy')\n",
        "plt.title('Training and validation accuracy')\n",
        "plt.legend()\n",
        "plt.figure()\n",
        "\n",
        "plt.plot(epochs, loss, 'r', label='Training Loss')\n",
        "plt.plot(epochs, val_loss, 'b', label='Validation Loss')\n",
        "plt.title('Training and validation loss')\n",
        "plt.legend()\n",
        "\n",
        "plt.show()"
      ],
      "execution_count": 10,
      "outputs": [
        {
          "output_type": "display_data",
          "data": {
            "image/png": "[encoded data removed]",
            "text/plain": [
              "<Figure size 432x288 with 1 Axes>"
            ]
          },
          "metadata": {
            "tags": [],
            "needs_background": "light"
          }
        },
        {
          "output_type": "display_data",
          "data": {
            "image/png": "[encoded data removed]",
            "text/plain": [
              "<Figure size 432x288 with 1 Axes>"
            ]
          },
          "metadata": {
            "tags": [],
            "needs_background": "light"
          }
        }
      ]
    },
    {
      "cell_type": "code",
      "metadata": {
        "id": "xG_QPFKoreN4",
        "colab_type": "code",
        "colab": {
          "base_uri": "https://localhost:8080/",
          "height": 282
        },
        "outputId": "81e80076-d667-4d51-9f44-032a35993363"
      },
      "source": [
        "prediction_og = model.predict([5]) #Give the model the number 5\n",
        "prediction = prediction_og.reshape(28,28) #reshape into a 28,28 array\n",
        "plt.imshow(prediction[:, :], cmap='gray') #show it as an image\n",
        "\n",
        "#This is the models generated image of a 5"
      ],
      "execution_count": 12,
      "outputs": [
        {
          "output_type": "execute_result",
          "data": {
            "text/plain": [
              "<matplotlib.image.AxesImage at 0x7f835069b5c0>"
            ]
          },
          "metadata": {
            "tags": []
          },
          "execution_count": 12
        },
        {
          "output_type": "display_data",
          "data": {
            "image/png": "[encoded data removed]",
            "text/plain": [
              "<Figure size 432x288 with 1 Axes>"
            ]
          },
          "metadata": {
            "tags": [],
            "needs_background": "light"
          }
        }
      ]
    },
    {
      "cell_type": "code",
      "metadata": {
        "id": "H2s94dJ7rgIk",
        "colab_type": "code",
        "colab": {
          "base_uri": "https://localhost:8080/",
          "height": 334
        },
        "outputId": "fd7780c4-5c27-4734-891c-4827c97d5057"
      },
      "source": [
        "#calculate mean and stdev of pixel values generated by model\n",
        "print(np.mean(prediction_og))\n",
        "print(np.std(prediction_og))\n",
        "\n",
        "#compare them to the original image\n",
        "print(np.std(train_images[11])/np.std(prediction_og))\n",
        "plt.imshow(training_images[11], cmap='gray')\n",
        "\n",
        "#This is what a single 5 looks like in the handwritten digits dataset."
      ],
      "execution_count": 30,
      "outputs": [
        {
          "output_type": "stream",
          "text": [
            "0.21405874\n",
            "0.29540476\n",
            "0.7802073661077543\n"
          ],
          "name": "stdout"
        },
        {
          "output_type": "execute_result",
          "data": {
            "text/plain": [
              "<matplotlib.image.AxesImage at 0x7f81a3d71c18>"
            ]
          },
          "metadata": {
            "tags": []
          },
          "execution_count": 30
        },
        {
          "output_type": "display_data",
          "data": {
            "image/png": "[encoded data removed]",
            "text/plain": [
              "<Figure size 432x288 with 1 Axes>"
            ]
          },
          "metadata": {
            "tags": [],
            "needs_background": "light"
          }
        }
      ]
    },
    {
      "cell_type": "code",
      "metadata": {
        "id": "mLBD_SBgfr3L",
        "colab_type": "code",
        "colab": {}
      },
      "source": [
        ""
      ],
      "execution_count": 34,
      "outputs": []
    },
    {
      "cell_type": "code",
      "metadata": {
        "id": "Hfjgji5ugaow",
        "colab_type": "code",
        "colab": {}
      },
      "source": [
        ""
      ],
      "execution_count": null,
      "outputs": []
    }
  ]
}